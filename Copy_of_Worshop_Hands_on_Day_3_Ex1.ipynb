{
  "cells": [
    {
      "cell_type": "markdown",
      "metadata": {
        "id": "view-in-github",
        "colab_type": "text"
      },
      "source": [
        "<a href=\"https://colab.research.google.com/github/KalyaniHaridas/sampleweb/blob/master/Copy_of_Worshop_Hands_on_Day_3_Ex1.ipynb\" target=\"_parent\"><img src=\"https://colab.research.google.com/assets/colab-badge.svg\" alt=\"Open In Colab\"/></a>"
      ]
    },
    {
      "cell_type": "markdown",
      "id": "e12ba207",
      "metadata": {
        "id": "e12ba207"
      },
      "source": [
        "# Quantum Teleportation\n",
        "Recall the protocol!\n",
        "\n",
        "We have\n",
        "\n",
        "$\\rightarrow$ Alice and Bob\n",
        "\n",
        "$\\rightarrow$ Alice wants to teleport a quantum state $|\\psi\\rangle = \\alpha |0\\rangle + \\beta|1\\rangle$ to Bob.\n",
        "\n",
        "$\\rightarrow$ The resouce that they have is an entangled pair of qubits say a bell pair.\n",
        "\n",
        "Let us first set these up!\n"
      ]
    },
    {
      "cell_type": "code",
      "source": [
        "pip install qiskit"
      ],
      "metadata": {
        "colab": {
          "base_uri": "https://localhost:8080/"
        },
        "id": "A0Xpr_o7mvYP",
        "outputId": "23e6255c-eb31-4c94-900c-ac5f3cb95410"
      },
      "id": "A0Xpr_o7mvYP",
      "execution_count": 81,
      "outputs": [
        {
          "output_type": "stream",
          "name": "stdout",
          "text": [
            "Looking in indexes: https://pypi.org/simple, https://us-python.pkg.dev/colab-wheels/public/simple/\n",
            "Requirement already satisfied: qiskit in /usr/local/lib/python3.7/dist-packages (0.39.0)\n",
            "Requirement already satisfied: qiskit-ibmq-provider==0.19.2 in /usr/local/lib/python3.7/dist-packages (from qiskit) (0.19.2)\n",
            "Requirement already satisfied: qiskit-aer==0.11.0 in /usr/local/lib/python3.7/dist-packages (from qiskit) (0.11.0)\n",
            "Requirement already satisfied: qiskit-terra==0.22.0 in /usr/local/lib/python3.7/dist-packages (from qiskit) (0.22.0)\n",
            "Requirement already satisfied: scipy>=1.0 in /usr/local/lib/python3.7/dist-packages (from qiskit-aer==0.11.0->qiskit) (1.7.3)\n",
            "Requirement already satisfied: numpy>=1.16.3 in /usr/local/lib/python3.7/dist-packages (from qiskit-aer==0.11.0->qiskit) (1.21.6)\n",
            "Requirement already satisfied: urllib3>=1.21.1 in /usr/local/lib/python3.7/dist-packages (from qiskit-ibmq-provider==0.19.2->qiskit) (1.24.3)\n",
            "Requirement already satisfied: requests-ntlm>=1.1.0 in /usr/local/lib/python3.7/dist-packages (from qiskit-ibmq-provider==0.19.2->qiskit) (1.1.0)\n",
            "Requirement already satisfied: websockets>=10.0 in /usr/local/lib/python3.7/dist-packages (from qiskit-ibmq-provider==0.19.2->qiskit) (10.3)\n",
            "Requirement already satisfied: websocket-client>=1.0.1 in /usr/local/lib/python3.7/dist-packages (from qiskit-ibmq-provider==0.19.2->qiskit) (1.4.1)\n",
            "Requirement already satisfied: requests>=2.19 in /usr/local/lib/python3.7/dist-packages (from qiskit-ibmq-provider==0.19.2->qiskit) (2.23.0)\n",
            "Requirement already satisfied: python-dateutil>=2.8.0 in /usr/local/lib/python3.7/dist-packages (from qiskit-ibmq-provider==0.19.2->qiskit) (2.8.2)\n",
            "Requirement already satisfied: dill>=0.3 in /usr/local/lib/python3.7/dist-packages (from qiskit-terra==0.22.0->qiskit) (0.3.5.1)\n",
            "Requirement already satisfied: typing-extensions in /usr/local/lib/python3.7/dist-packages (from qiskit-terra==0.22.0->qiskit) (4.1.1)\n",
            "Requirement already satisfied: tweedledum<2.0,>=1.1 in /usr/local/lib/python3.7/dist-packages (from qiskit-terra==0.22.0->qiskit) (1.1.1)\n",
            "Requirement already satisfied: shared-memory38 in /usr/local/lib/python3.7/dist-packages (from qiskit-terra==0.22.0->qiskit) (0.1.2)\n",
            "Requirement already satisfied: retworkx>=0.11.0 in /usr/local/lib/python3.7/dist-packages (from qiskit-terra==0.22.0->qiskit) (0.12.0)\n",
            "Requirement already satisfied: psutil>=5 in /usr/local/lib/python3.7/dist-packages (from qiskit-terra==0.22.0->qiskit) (5.4.8)\n",
            "Requirement already satisfied: ply>=3.10 in /usr/local/lib/python3.7/dist-packages (from qiskit-terra==0.22.0->qiskit) (3.11)\n",
            "Requirement already satisfied: importlib-metadata<5.0 in /usr/local/lib/python3.7/dist-packages (from qiskit-terra==0.22.0->qiskit) (4.13.0)\n",
            "Requirement already satisfied: stevedore>=3.0.0 in /usr/local/lib/python3.7/dist-packages (from qiskit-terra==0.22.0->qiskit) (3.5.1)\n",
            "Requirement already satisfied: sympy>=1.3 in /usr/local/lib/python3.7/dist-packages (from qiskit-terra==0.22.0->qiskit) (1.7.1)\n",
            "Requirement already satisfied: symengine>=0.9 in /usr/local/lib/python3.7/dist-packages (from qiskit-terra==0.22.0->qiskit) (0.9.2)\n",
            "Requirement already satisfied: zipp>=0.5 in /usr/local/lib/python3.7/dist-packages (from importlib-metadata<5.0->qiskit-terra==0.22.0->qiskit) (3.9.0)\n",
            "Requirement already satisfied: six>=1.5 in /usr/local/lib/python3.7/dist-packages (from python-dateutil>=2.8.0->qiskit-ibmq-provider==0.19.2->qiskit) (1.15.0)\n",
            "Requirement already satisfied: chardet<4,>=3.0.2 in /usr/local/lib/python3.7/dist-packages (from requests>=2.19->qiskit-ibmq-provider==0.19.2->qiskit) (3.0.4)\n",
            "Requirement already satisfied: idna<3,>=2.5 in /usr/local/lib/python3.7/dist-packages (from requests>=2.19->qiskit-ibmq-provider==0.19.2->qiskit) (2.10)\n",
            "Requirement already satisfied: certifi>=2017.4.17 in /usr/local/lib/python3.7/dist-packages (from requests>=2.19->qiskit-ibmq-provider==0.19.2->qiskit) (2022.9.24)\n",
            "Requirement already satisfied: cryptography>=1.3 in /usr/local/lib/python3.7/dist-packages (from requests-ntlm>=1.1.0->qiskit-ibmq-provider==0.19.2->qiskit) (38.0.1)\n",
            "Requirement already satisfied: ntlm-auth>=1.0.2 in /usr/local/lib/python3.7/dist-packages (from requests-ntlm>=1.1.0->qiskit-ibmq-provider==0.19.2->qiskit) (1.5.0)\n",
            "Requirement already satisfied: cffi>=1.12 in /usr/local/lib/python3.7/dist-packages (from cryptography>=1.3->requests-ntlm>=1.1.0->qiskit-ibmq-provider==0.19.2->qiskit) (1.15.1)\n",
            "Requirement already satisfied: pycparser in /usr/local/lib/python3.7/dist-packages (from cffi>=1.12->cryptography>=1.3->requests-ntlm>=1.1.0->qiskit-ibmq-provider==0.19.2->qiskit) (2.21)\n",
            "Requirement already satisfied: rustworkx==0.12.0 in /usr/local/lib/python3.7/dist-packages (from retworkx>=0.11.0->qiskit-terra==0.22.0->qiskit) (0.12.0)\n",
            "Requirement already satisfied: pbr!=2.1.0,>=2.0.0 in /usr/local/lib/python3.7/dist-packages (from stevedore>=3.0.0->qiskit-terra==0.22.0->qiskit) (5.10.0)\n",
            "Requirement already satisfied: mpmath>=0.19 in /usr/local/lib/python3.7/dist-packages (from sympy>=1.3->qiskit-terra==0.22.0->qiskit) (1.2.1)\n"
          ]
        }
      ]
    },
    {
      "cell_type": "code",
      "source": [
        "pip install qiskit.ignis"
      ],
      "metadata": {
        "colab": {
          "base_uri": "https://localhost:8080/"
        },
        "id": "FA4pSsyInpv4",
        "outputId": "1ac4122d-1c72-4998-f88f-d917fb20bdba"
      },
      "id": "FA4pSsyInpv4",
      "execution_count": 82,
      "outputs": [
        {
          "output_type": "stream",
          "name": "stdout",
          "text": [
            "Looking in indexes: https://pypi.org/simple, https://us-python.pkg.dev/colab-wheels/public/simple/\n",
            "Requirement already satisfied: qiskit.ignis in /usr/local/lib/python3.7/dist-packages (0.7.1)\n",
            "Requirement already satisfied: numpy>=1.13 in /usr/local/lib/python3.7/dist-packages (from qiskit.ignis) (1.21.6)\n",
            "Requirement already satisfied: retworkx>=0.8.0 in /usr/local/lib/python3.7/dist-packages (from qiskit.ignis) (0.12.0)\n",
            "Requirement already satisfied: scipy!=0.19.1,>=0.19 in /usr/local/lib/python3.7/dist-packages (from qiskit.ignis) (1.7.3)\n",
            "Requirement already satisfied: qiskit-terra>=0.15.1 in /usr/local/lib/python3.7/dist-packages (from qiskit.ignis) (0.22.0)\n",
            "Requirement already satisfied: setuptools>=40.1.0 in /usr/local/lib/python3.7/dist-packages (from qiskit.ignis) (57.4.0)\n",
            "Requirement already satisfied: psutil>=5 in /usr/local/lib/python3.7/dist-packages (from qiskit-terra>=0.15.1->qiskit.ignis) (5.4.8)\n",
            "Requirement already satisfied: python-dateutil>=2.8.0 in /usr/local/lib/python3.7/dist-packages (from qiskit-terra>=0.15.1->qiskit.ignis) (2.8.2)\n",
            "Requirement already satisfied: typing-extensions in /usr/local/lib/python3.7/dist-packages (from qiskit-terra>=0.15.1->qiskit.ignis) (4.1.1)\n",
            "Requirement already satisfied: ply>=3.10 in /usr/local/lib/python3.7/dist-packages (from qiskit-terra>=0.15.1->qiskit.ignis) (3.11)\n",
            "Requirement already satisfied: sympy>=1.3 in /usr/local/lib/python3.7/dist-packages (from qiskit-terra>=0.15.1->qiskit.ignis) (1.7.1)\n",
            "Requirement already satisfied: dill>=0.3 in /usr/local/lib/python3.7/dist-packages (from qiskit-terra>=0.15.1->qiskit.ignis) (0.3.5.1)\n",
            "Requirement already satisfied: tweedledum<2.0,>=1.1 in /usr/local/lib/python3.7/dist-packages (from qiskit-terra>=0.15.1->qiskit.ignis) (1.1.1)\n",
            "Requirement already satisfied: symengine>=0.9 in /usr/local/lib/python3.7/dist-packages (from qiskit-terra>=0.15.1->qiskit.ignis) (0.9.2)\n",
            "Requirement already satisfied: importlib-metadata<5.0 in /usr/local/lib/python3.7/dist-packages (from qiskit-terra>=0.15.1->qiskit.ignis) (4.13.0)\n",
            "Requirement already satisfied: shared-memory38 in /usr/local/lib/python3.7/dist-packages (from qiskit-terra>=0.15.1->qiskit.ignis) (0.1.2)\n",
            "Requirement already satisfied: stevedore>=3.0.0 in /usr/local/lib/python3.7/dist-packages (from qiskit-terra>=0.15.1->qiskit.ignis) (3.5.1)\n",
            "Requirement already satisfied: zipp>=0.5 in /usr/local/lib/python3.7/dist-packages (from importlib-metadata<5.0->qiskit-terra>=0.15.1->qiskit.ignis) (3.9.0)\n",
            "Requirement already satisfied: six>=1.5 in /usr/local/lib/python3.7/dist-packages (from python-dateutil>=2.8.0->qiskit-terra>=0.15.1->qiskit.ignis) (1.15.0)\n",
            "Requirement already satisfied: rustworkx==0.12.0 in /usr/local/lib/python3.7/dist-packages (from retworkx>=0.8.0->qiskit.ignis) (0.12.0)\n",
            "Requirement already satisfied: pbr!=2.1.0,>=2.0.0 in /usr/local/lib/python3.7/dist-packages (from stevedore>=3.0.0->qiskit-terra>=0.15.1->qiskit.ignis) (5.10.0)\n",
            "Requirement already satisfied: mpmath>=0.19 in /usr/local/lib/python3.7/dist-packages (from sympy>=1.3->qiskit-terra>=0.15.1->qiskit.ignis) (1.2.1)\n"
          ]
        }
      ]
    },
    {
      "cell_type": "code",
      "execution_count": 83,
      "id": "8d994ce3",
      "metadata": {
        "id": "8d994ce3"
      },
      "outputs": [],
      "source": [
        "# Do the necessary imports\n",
        "import numpy as np\n",
        "from qiskit import QuantumCircuit, QuantumRegister, ClassicalRegister\n",
        "from qiskit import IBMQ, Aer, transpile, assemble\n",
        "from qiskit.visualization import plot_histogram, plot_bloch_multivector, array_to_latex\n",
        "from qiskit.extensions import Initialize\n",
        "from qiskit.ignis.verification import marginal_counts\n",
        "from qiskit.quantum_info import random_statevector\n"
      ]
    },
    {
      "cell_type": "markdown",
      "id": "78291c09",
      "metadata": {
        "id": "78291c09"
      },
      "source": [
        " Lets create an bell pair for Alice and Bob!\n",
        " \n",
        " Define a function that returns a quantum circuit that generates a bell pair of the form $\\dfrac{1}{2}|00\\rangle + |11\\rangle$ \n"
      ]
    },
    {
      "cell_type": "code",
      "execution_count": 84,
      "id": "1b5948fe",
      "metadata": {
        "id": "1b5948fe"
      },
      "outputs": [],
      "source": [
        "def create_bell_pair(qc, a, b):\n",
        "    \"\"\"Creates a bell pair in qc using qubits a & b\"\"\"\n",
        "    qc.h(a) # Put qubit a into state |+>\n",
        "    qc.cx(a,b) # CNOT with a as control and b as target\n",
        "    return qc"
      ]
    },
    {
      "cell_type": "code",
      "execution_count": 85,
      "id": "65ae9827",
      "metadata": {
        "id": "65ae9827",
        "colab": {
          "base_uri": "https://localhost:8080/",
          "height": 186
        },
        "outputId": "79640bcb-2eeb-457c-a98c-8016c887a6b9"
      },
      "outputs": [
        {
          "output_type": "execute_result",
          "data": {
            "text/plain": [
              "               \n",
              "q_0: ──────────\n",
              "     ┌───┐     \n",
              "q_1: ┤ H ├──■──\n",
              "     └───┘┌─┴─┐\n",
              "q_2: ─────┤ X ├\n",
              "          └───┘\n",
              "crz: ══════════\n",
              "               \n",
              "crx: ══════════\n",
              "               "
            ],
            "text/html": [
              "<pre style=\"word-wrap: normal;white-space: pre;background: #fff0;line-height: 1.1;font-family: &quot;Courier New&quot;,Courier,monospace\">               \n",
              "q_0: ──────────\n",
              "     ┌───┐     \n",
              "q_1: ┤ H ├──■──\n",
              "     └───┘┌─┴─┐\n",
              "q_2: ─────┤ X ├\n",
              "          └───┘\n",
              "crz: ══════════\n",
              "               \n",
              "crx: ══════════\n",
              "               </pre>"
            ]
          },
          "metadata": {},
          "execution_count": 85
        }
      ],
      "source": [
        "## SETUP\n",
        "# Protocol uses 3 qubits and 2 classical bits in 2 different registers\n",
        "qr = QuantumRegister(3, name=\"q\")\n",
        "crz, crx = ClassicalRegister(1, name=\"crz\"), ClassicalRegister(1, name=\"crx\")\n",
        "teleportation_circuit = QuantumCircuit(qr, crz, crx)\n",
        "\n",
        "## STEP 1\n",
        "# Let us create entanglement between qubits q1 and q2 for Alice and Bob\n",
        "# Let's apply this to our circuit:\n",
        "create_bell_pair(teleportation_circuit, 1, 2)\n",
        "# And view the circuit so far:\n",
        "teleportation_circuit.draw()\n"
      ]
    },
    {
      "cell_type": "markdown",
      "id": "fb9ae7ae",
      "metadata": {
        "id": "fb9ae7ae"
      },
      "source": [
        "Alice takes q1 and Bob q2 and they part ways!\n",
        "\n",
        "Alice then decides she wants to teleport a quantum state to Bob!\n",
        "\n",
        "Say she wants to teleport the state $\\dfrac{1}{\\sqrt(2)}|0\\rangle - \\dfrac{1}{\\sqrt(2)}|1\\rangle$\n",
        "\n",
        "Initialize the q0 in the required state"
      ]
    },
    {
      "cell_type": "code",
      "execution_count": 86,
      "id": "59598d1c",
      "metadata": {
        "id": "59598d1c",
        "colab": {
          "base_uri": "https://localhost:8080/"
        },
        "outputId": "22da7126-2629-4afa-aadc-6758639b5736"
      },
      "outputs": [
        {
          "output_type": "execute_result",
          "data": {
            "text/plain": [
              "<qiskit.circuit.instructionset.InstructionSet at 0x7f7899e44410>"
            ]
          },
          "metadata": {},
          "execution_count": 86
        }
      ],
      "source": [
        "teleportation_circuit.initialize([1/np.sqrt(2), -1/np.sqrt(2)], 0)"
      ]
    },
    {
      "cell_type": "code",
      "execution_count": 87,
      "id": "588f8b7b",
      "metadata": {
        "id": "588f8b7b",
        "colab": {
          "base_uri": "https://localhost:8080/",
          "height": 186
        },
        "outputId": "db254ff1-d948-4a95-b3e8-7bd3e98da7d0"
      },
      "outputs": [
        {
          "output_type": "execute_result",
          "data": {
            "text/plain": [
              "     ┌──────────────────────────────┐     \n",
              "q_0: ┤ Initialize(0.70711,-0.70711) ├─────\n",
              "     └────────────┬───┬─────────────┘     \n",
              "q_1: ─────────────┤ H ├────────────────■──\n",
              "                  └───┘              ┌─┴─┐\n",
              "q_2: ────────────────────────────────┤ X ├\n",
              "                                     └───┘\n",
              "crz: ═════════════════════════════════════\n",
              "                                          \n",
              "crx: ═════════════════════════════════════\n",
              "                                          "
            ],
            "text/html": [
              "<pre style=\"word-wrap: normal;white-space: pre;background: #fff0;line-height: 1.1;font-family: &quot;Courier New&quot;,Courier,monospace\">     ┌──────────────────────────────┐     \n",
              "q_0: ┤ Initialize(0.70711,-0.70711) ├─────\n",
              "     └────────────┬───┬─────────────┘     \n",
              "q_1: ─────────────┤ H ├────────────────■──\n",
              "                  └───┘              ┌─┴─┐\n",
              "q_2: ────────────────────────────────┤ X ├\n",
              "                                     └───┘\n",
              "crz: ═════════════════════════════════════\n",
              "                                          \n",
              "crx: ═════════════════════════════════════\n",
              "                                          </pre>"
            ]
          },
          "metadata": {},
          "execution_count": 87
        }
      ],
      "source": [
        "teleportation_circuit.draw()"
      ]
    },
    {
      "cell_type": "markdown",
      "id": "abd1fd48",
      "metadata": {
        "id": "abd1fd48"
      },
      "source": [
        "#### Step 2 \n",
        "\n",
        "Alice applies a CNOT gate to $q_1$, controlled by $\\vert\\psi\\rangle$ (the qubit she is trying to send Bob). Then Alice applies a Hadamard gate to $|\\psi\\rangle$.\n",
        "In our quantum circuit, the qubit ($|\\psi\\rangle$) Alice is trying to send is $q_0$:"
      ]
    },
    {
      "cell_type": "code",
      "execution_count": 88,
      "id": "f00e51c8",
      "metadata": {
        "id": "f00e51c8"
      },
      "outputs": [],
      "source": [
        "def alice_gates(qc, psi, a):\n",
        "    qc.cx(psi, a)\n",
        "    qc.h(psi)"
      ]
    },
    {
      "cell_type": "markdown",
      "id": "829b0720",
      "metadata": {
        "id": "829b0720"
      },
      "source": [
        "#### Step 3\n",
        "\n",
        "Next, Alice applies a measurement to both qubits that she owns, $q_1$ and $\\vert\\psi\\rangle$, and stores this result in two classical bits. She then sends these two bits to Bob."
      ]
    },
    {
      "cell_type": "code",
      "execution_count": 89,
      "id": "aa0bab64",
      "metadata": {
        "id": "aa0bab64"
      },
      "outputs": [],
      "source": [
        "def measure_and_send(qc, a, b):\n",
        "    \"\"\"Measures qubits a & b and 'sends' the results to Bob\"\"\"\n",
        "    qc.barrier()\n",
        "    qc.measure(a,0)\n",
        "    qc.measure(b,1)"
      ]
    },
    {
      "cell_type": "code",
      "execution_count": 90,
      "id": "e42176fc",
      "metadata": {
        "id": "e42176fc",
        "colab": {
          "base_uri": "https://localhost:8080/",
          "height": 186
        },
        "outputId": "601532aa-ff63-442f-b8b9-1d20a892bfb4"
      },
      "outputs": [
        {
          "output_type": "execute_result",
          "data": {
            "text/plain": [
              "     ┌──────────────────────────────┐          ┌───┐ ░ ┌─┐   \n",
              "q_0: ┤ Initialize(0.70711,-0.70711) ├───────■──┤ H ├─░─┤M├───\n",
              "     └────────────┬───┬─────────────┘     ┌─┴─┐└───┘ ░ └╥┘┌─┐\n",
              "q_1: ─────────────┤ H ├────────────────■──┤ X ├──────░──╫─┤M├\n",
              "                  └───┘              ┌─┴─┐└───┘      ░  ║ └╥┘\n",
              "q_2: ────────────────────────────────┤ X ├───────────░──╫──╫─\n",
              "                                     └───┘           ░  ║  ║ \n",
              "crz: ═══════════════════════════════════════════════════╩══╬═\n",
              "                                                           ║ \n",
              "crx: ══════════════════════════════════════════════════════╩═\n",
              "                                                             "
            ],
            "text/html": [
              "<pre style=\"word-wrap: normal;white-space: pre;background: #fff0;line-height: 1.1;font-family: &quot;Courier New&quot;,Courier,monospace\">     ┌──────────────────────────────┐          ┌───┐ ░ ┌─┐   \n",
              "q_0: ┤ Initialize(0.70711,-0.70711) ├───────■──┤ H ├─░─┤M├───\n",
              "     └────────────┬───┬─────────────┘     ┌─┴─┐└───┘ ░ └╥┘┌─┐\n",
              "q_1: ─────────────┤ H ├────────────────■──┤ X ├──────░──╫─┤M├\n",
              "                  └───┘              ┌─┴─┐└───┘      ░  ║ └╥┘\n",
              "q_2: ────────────────────────────────┤ X ├───────────░──╫──╫─\n",
              "                                     └───┘           ░  ║  ║ \n",
              "crz: ═══════════════════════════════════════════════════╩══╬═\n",
              "                                                           ║ \n",
              "crx: ══════════════════════════════════════════════════════╩═\n",
              "                                                             </pre>"
            ]
          },
          "metadata": {},
          "execution_count": 90
        }
      ],
      "source": [
        "alice_gates(teleportation_circuit, 0, 1)\n",
        "\n",
        "## STEP 3\n",
        "measure_and_send(teleportation_circuit, 0 ,1)\n",
        "teleportation_circuit.draw()"
      ]
    },
    {
      "cell_type": "markdown",
      "id": "3ee26b02",
      "metadata": {
        "id": "3ee26b02"
      },
      "source": [
        "#### Step 4\n",
        "\n",
        "Bob, who already has the qubit $q_2$, then applies the following gates depending on the state of the classical bits:\n",
        "\n",
        "00 $\\rightarrow$ Do nothing\n",
        "\n",
        "01 $\\rightarrow$ Apply $X$ gate\n",
        "\n",
        "10 $\\rightarrow$ Apply $Z$ gate\n",
        "\n",
        "11 $\\rightarrow$ Apply $ZX$ gate\n",
        "\n",
        "(*Note that this transfer of information is purely classical*.)"
      ]
    },
    {
      "cell_type": "code",
      "execution_count": 91,
      "id": "8a0d80fd",
      "metadata": {
        "id": "8a0d80fd"
      },
      "outputs": [],
      "source": [
        "# This function takes a QuantumCircuit (qc), integer (qubit)\n",
        "# and ClassicalRegisters (crz & crx) to decide which gates to apply\n",
        "def bob_gates(qc, qubit, crz, crx):\n",
        "    # Here we use c_if to control our gates with a classical\n",
        "    # bit instead of a qubit\n",
        "    qc.x(qubit).c_if(crx, 1) # Apply gates if the registers \n",
        "    qc.z(qubit).c_if(crz, 1) # are in the state '1'"
      ]
    },
    {
      "cell_type": "code",
      "execution_count": 92,
      "id": "a462c0a8",
      "metadata": {
        "id": "a462c0a8",
        "colab": {
          "base_uri": "https://localhost:8080/",
          "height": 186
        },
        "outputId": "6a247946-af5d-4ba4-b77f-8cac0de84741"
      },
      "outputs": [
        {
          "output_type": "execute_result",
          "data": {
            "text/plain": [
              "     ┌──────────────────────────────┐          ┌───┐ ░ ┌─┐    ░           \n",
              "q_0: ┤ Initialize(0.70711,-0.70711) ├───────■──┤ H ├─░─┤M├────░───────────\n",
              "     └────────────┬───┬─────────────┘     ┌─┴─┐└───┘ ░ └╥┘┌─┐ ░           \n",
              "q_1: ─────────────┤ H ├────────────────■──┤ X ├──────░──╫─┤M├─░───────────\n",
              "                  └───┘              ┌─┴─┐└───┘      ░  ║ └╥┘ ░ ┌───┐┌───┐\n",
              "q_2: ────────────────────────────────┤ X ├───────────░──╫──╫──░─┤ X ├┤ Z ├\n",
              "                                     └───┘           ░  ║  ║  ░ └─╥─┘└─╥─┘\n",
              "crz: ═══════════════════════════════════════════════════╩══╬══════╬════■══\n",
              "                                                           ║      ║   0x1 \n",
              "crx: ══════════════════════════════════════════════════════╩══════■═══════\n",
              "                                                                 0x1      "
            ],
            "text/html": [
              "<pre style=\"word-wrap: normal;white-space: pre;background: #fff0;line-height: 1.1;font-family: &quot;Courier New&quot;,Courier,monospace\">     ┌──────────────────────────────┐          ┌───┐ ░ ┌─┐    ░           \n",
              "q_0: ┤ Initialize(0.70711,-0.70711) ├───────■──┤ H ├─░─┤M├────░───────────\n",
              "     └────────────┬───┬─────────────┘     ┌─┴─┐└───┘ ░ └╥┘┌─┐ ░           \n",
              "q_1: ─────────────┤ H ├────────────────■──┤ X ├──────░──╫─┤M├─░───────────\n",
              "                  └───┘              ┌─┴─┐└───┘      ░  ║ └╥┘ ░ ┌───┐┌───┐\n",
              "q_2: ────────────────────────────────┤ X ├───────────░──╫──╫──░─┤ X ├┤ Z ├\n",
              "                                     └───┘           ░  ║  ║  ░ └─╥─┘└─╥─┘\n",
              "crz: ═══════════════════════════════════════════════════╩══╬══════╬════■══\n",
              "                                                           ║      ║   0x1 \n",
              "crx: ══════════════════════════════════════════════════════╩══════■═══════\n",
              "                                                                 0x1      </pre>"
            ]
          },
          "metadata": {},
          "execution_count": 92
        }
      ],
      "source": [
        "## STEP 4\n",
        "teleportation_circuit.barrier() # Use barrier to separate steps\n",
        "bob_gates(teleportation_circuit, 2, crz, crx)\n",
        "teleportation_circuit.draw()"
      ]
    },
    {
      "cell_type": "code",
      "execution_count": 93,
      "id": "a662be69",
      "metadata": {
        "id": "a662be69",
        "colab": {
          "base_uri": "https://localhost:8080/"
        },
        "outputId": "0f968e46-e3c4-4e40-835d-ff255b9a88bf"
      },
      "outputs": [
        {
          "output_type": "stream",
          "name": "stderr",
          "text": [
            "configrc.store_credentials:WARNING:2022-10-19 10:47:57,287: Credentials already present. Set overwrite=True to overwrite.\n",
            "ibmqfactory.load_account:WARNING:2022-10-19 10:47:57,431: Credentials are already in use. The existing account in the session will be replaced.\n"
          ]
        }
      ],
      "source": [
        "# Let us simulate this circuit \n",
        "# Configuring account\n",
        "IBMQ.save_account(\"0494143348313b109e0a5383fe6b7ebad418b05840611bb70b3508c0932ea7f1a935b1c5a35296b49b4da40b3ec1c0b17233b994747d06e0f8555076cd6850ee\")\n",
        "provider = IBMQ.load_account()"
      ]
    },
    {
      "cell_type": "code",
      "execution_count": 94,
      "id": "ea0c039e",
      "metadata": {
        "id": "ea0c039e",
        "colab": {
          "base_uri": "https://localhost:8080/",
          "height": 268
        },
        "outputId": "74bb7498-3995-4fc4-a92b-83366726951f"
      },
      "outputs": [
        {
          "output_type": "execute_result",
          "data": {
            "text/plain": [
              "<Figure size 864x288 with 3 Axes>"
            ],
            "image/png": "[encoded data removed]"
          },
          "metadata": {},
          "execution_count": 94
        }
      ],
      "source": [
        "sim = Aer.get_backend('aer_simulator')\n",
        "teleportation_circuit.save_statevector()\n",
        "out_vector = sim.run(teleportation_circuit).result().get_statevector()\n",
        "plot_bloch_multivector(out_vector)"
      ]
    },
    {
      "cell_type": "markdown",
      "id": "8d331a00",
      "metadata": {
        "id": "8d331a00"
      },
      "source": [
        "## Understanding the theory of Quantum Teleportation <a id=\"understanding-qt\"></a>\n",
        "\n",
        "From Qiskit Textbook\n",
        "\n",
        "As you have worked with the Quantum Teleportation's implementation, it is time to understand the mathematics behind the protocol.\n",
        "\n",
        "#### Step 1\n",
        "\n",
        "Quantum Teleportation begins with the fact that Alice needs to transmit $|\\psi\\rangle = \\alpha|0\\rangle + \\beta|1\\rangle$ (a random qubit) to Bob. She doesn't know the state of the qubit. For this, Alice and Bob take the help of a third party (Telamon). Telamon prepares a pair of entangled qubits for Alice and Bob. The entangled qubits could be written in Dirac Notation as:\n",
        "\n",
        "$$ |e \\rangle = \\frac{1}{\\sqrt{2}} (|00\\rangle + |11\\rangle) $$\n",
        "\n",
        "Alice and Bob each possess one qubit of the entangled pair (denoted as A and B respectively),\n",
        "\n",
        "$$|e\\rangle = \\frac{1}{\\sqrt{2}} (|0\\rangle_A |0\\rangle_B + |1\\rangle_A |1\\rangle_B) $$\n",
        "\n",
        "This creates a three qubit quantum system where Alice has the first two qubits and Bob the last one.\n",
        "\n",
        "$$ \\begin{align*}\n",
        "|\\psi\\rangle \\otimes |e\\rangle &= \\frac{1}{\\sqrt{2}} (\\alpha |0\\rangle \\otimes (|00\\rangle + |11\\rangle) + \\beta |1\\rangle \\otimes (|00\\rangle + |11\\rangle))\\\\\n",
        "&= \\frac{1}{\\sqrt{2}} (\\alpha|000\\rangle + \\alpha|011\\rangle + \\beta|100\\rangle + \\beta|111\\rangle) \n",
        "\\end{align*}$$\n",
        "\n",
        "#### Step 2\n",
        "\n",
        "Now according to the protocol Alice applies CNOT gate on her two qubits followed by Hadamard gate on the first qubit. This results in the state:\n",
        "\n",
        "$$ \n",
        "\\begin{align*} (H \\otimes I \\otimes I) (CNOT \\otimes I) (|\\psi\\rangle \\otimes |e\\rangle)\n",
        "&=(H \\otimes I \\otimes I) (CNOT \\otimes I) \\frac{1}{\\sqrt{2}} (\\alpha|000\\rangle + \\alpha|011\\rangle + \\beta|100\\rangle + \\beta|111\\rangle) \\\\\n",
        "&= (H \\otimes I \\otimes I) \\frac{1}{\\sqrt{2}} (\\alpha|000\\rangle + \\alpha|011\\rangle + \\beta|110\\rangle + \\beta|101\\rangle) \\\\\n",
        "&= \\frac{1}{2}  (\\alpha(|000\\rangle + |011\\rangle + |100\\rangle + |111\\rangle) + \\beta(|010\\rangle + |001\\rangle - |110\\rangle - |101\\rangle)) \\\\\n",
        "\\end{align*}\n",
        "$$\n",
        "\n",
        "Which can then be separated and written as: \n",
        "\n",
        "$$\n",
        "\\begin{align*}\n",
        "= \\frac{1}{2}(\n",
        " & \\phantom{+} |00\\rangle (\\alpha|0\\rangle + \\beta|1\\rangle) \\hphantom{\\quad )} \\\\\n",
        " & + |01\\rangle (\\alpha|1\\rangle + \\beta|0\\rangle) \\hphantom{\\quad )}\\\\[4pt]\n",
        " & + |10\\rangle (\\alpha|0\\rangle - \\beta|1\\rangle) \\hphantom{\\quad )}\\\\[4pt]\n",
        " & + |11\\rangle (\\alpha|1\\rangle - \\beta|0\\rangle) \\quad )\\\\\n",
        "\\end{align*}\n",
        "$$\n",
        "\n",
        "#### Step 3\n",
        "\n",
        "Alice measures the first two qubit (which she owns) and sends them as two classical bits to Bob. The result she obtains is always one of the four standard basis states $|00\\rangle, |01\\rangle, |10\\rangle,$ and $|11\\rangle$ with equal probability.  \n",
        "\n",
        "On the basis of her measurement, Bob's state will be projected to, \n",
        "$$ |00\\rangle \\rightarrow (\\alpha|0\\rangle + \\beta|1\\rangle)\\\\\n",
        "|01\\rangle \\rightarrow (\\alpha|1\\rangle + \\beta|0\\rangle)\\\\\n",
        "|10\\rangle \\rightarrow (\\alpha|0\\rangle - \\beta|1\\rangle)\\\\\n",
        "|11\\rangle \\rightarrow (\\alpha|1\\rangle - \\beta|0\\rangle)$$.\n",
        "\n",
        "#### Step 4\n",
        "\n",
        "Bob, on receiving the bits from Alice, knows he can obtain the original state $|\\psi\\rangle$ by applying appropriate transformations on his qubit that was once part of the entangled pair.\n",
        "\n",
        "The transformations he needs to apply are:\n",
        "\n",
        "$$\n",
        "\\begin{array}{c c c}\n",
        "\\mbox{Bob's State}                 & \\mbox{Bits Received} & \\mbox{Gate Applied} \\\\\n",
        "(\\alpha|0\\rangle + \\beta|1\\rangle) & 00                   & I                   \\\\\n",
        "(\\alpha|1\\rangle + \\beta|0\\rangle) & 01                   & X                   \\\\\n",
        "(\\alpha|0\\rangle - \\beta|1\\rangle) & 10                   & Z                   \\\\\n",
        "(\\alpha|1\\rangle - \\beta|0\\rangle) & 11                   & ZX\n",
        "\\end{array}\n",
        "$$\n",
        "\n",
        "After this step Bob will have successfully reconstructed Alice's state."
      ]
    },
    {
      "cell_type": "markdown",
      "id": "d9e81aec",
      "metadata": {
        "id": "d9e81aec"
      },
      "source": [
        "## Take home task:  Quantum teleportation using GHZ like state  \n",
        "\n",
        "This exercise is based on the idea in reference https://www.cs.memphis.edu/~kanyang/paper/J1-IJTP.pdf\n",
        "In this teleportation protocol, Alice distributes a GHZ like state given as \\begin{equation}\n",
        "\\dfrac{1}{2}[|001\\rangle + |010\\rangle +|100\\rangle] + |111\\rangle\\end{equation}\n",
        "\n",
        "The state that she would like to transfer is say $\\alpha |0\\rangle + \\beta|1\\rangle$\n",
        "\n",
        "This state can either be transfered to Bob or Charlie while the other party acts as an controller.\n",
        "\n",
        "### Task 1 :\n",
        "Create the GHZ like state -\n",
        "$$\\dfrac{1}{2}[|001\\rangle + |010\\rangle +|100\\rangle] + |111\\rangle$$\n",
        "Follow the procedure given in the reference and create a circuit that generates the state "
      ]
    },
    {
      "cell_type": "code",
      "execution_count": null,
      "id": "c3770d87",
      "metadata": {
        "id": "c3770d87"
      },
      "outputs": [],
      "source": [
        "## Create the GHZ like state in qubits 1,2,3 the qubit 0 will be the state \n",
        "\n",
        "\n"
      ]
    },
    {
      "cell_type": "markdown",
      "id": "ea0351ab",
      "metadata": {
        "id": "ea0351ab"
      },
      "source": [
        "\n",
        "### Task 2: Next let us teleport the state from Alice  to Charlie\n",
        " Follow the procedure in the reference and get the state teleported from the first qubit to the last.\n",
        " You would essentially do the following\n",
        " 1. Do a bell measurement on the first two qubits with Alice\n",
        " 2. Do a Z basis measurement on the third qubit, the qubit with Bob\n",
        " 3. Based on the results from Alice's Bell measurement and Bob's Z basis measurement apply local unitary on Charlies qubit and show that the state is successfully teleported\n"
      ]
    },
    {
      "cell_type": "code",
      "execution_count": null,
      "id": "2075081b",
      "metadata": {
        "id": "2075081b"
      },
      "outputs": [],
      "source": []
    },
    {
      "cell_type": "markdown",
      "source": [
        "## Grover Search"
      ],
      "metadata": {
        "id": "bTfI9z7jerUS"
      },
      "id": "bTfI9z7jerUS"
    },
    {
      "cell_type": "code",
      "source": [
        "#Importing standard qiskit libraries and other required libraries\n",
        "import numpy as np\n",
        "from qiskit import QuantumCircuit, transpile, Aer, IBMQ\n",
        "from qiskit.tools.jupyter import *\n",
        "from qiskit.visualization import *\n",
        "\n",
        "#Load your IBMQ account\n",
        "provider = IBMQ.load_account()"
      ],
      "metadata": {
        "id": "NYr4Pxgre7H1",
        "colab": {
          "base_uri": "https://localhost:8080/"
        },
        "outputId": "9cda3168-f6cd-45b9-c7c2-40f804c712cc"
      },
      "id": "NYr4Pxgre7H1",
      "execution_count": 61,
      "outputs": [
        {
          "output_type": "stream",
          "name": "stderr",
          "text": [
            "ibmqfactory.load_account:WARNING:2022-10-19 10:46:03,846: Credentials are already in use. The existing account in the session will be replaced.\n"
          ]
        }
      ]
    },
    {
      "cell_type": "code",
      "source": [
        "from qiskit import assemble\n",
        "import numpy as np\n",
        "import matplotlib.pyplot as plt"
      ],
      "metadata": {
        "id": "Fqu5tIWje83p"
      },
      "id": "Fqu5tIWje83p",
      "execution_count": 62,
      "outputs": []
    },
    {
      "cell_type": "code",
      "source": [
        "n=4\n",
        "grover_qc = QuantumCircuit(n+1,n)\n",
        "marked = [1,0,1,1]"
      ],
      "metadata": {
        "id": "UdPa0YnOfP7y"
      },
      "id": "UdPa0YnOfP7y",
      "execution_count": 63,
      "outputs": []
    },
    {
      "cell_type": "code",
      "source": [
        "def oracle(n,marked,qc):\n",
        "    flip0 = [i for i in range(n) if not marked[i]]\n",
        "    qc.x(flip0)\n",
        "    qc.mct(list(range(n)),n)\n",
        "    qc.x(flip0)\n",
        "    qc.draw()"
      ],
      "metadata": {
        "id": "c62FJbgPfTyl"
      },
      "id": "c62FJbgPfTyl",
      "execution_count": 64,
      "outputs": []
    },
    {
      "cell_type": "code",
      "source": [
        "def reflect_mean(qc,n):\n",
        "    qc.h(list(range(n)))\n",
        "    qc.x(list(range(n)))\n",
        "    qc.mct(list(range(n)),n)\n",
        "    qc.x(list(range(n+1)))\n",
        "    qc.h(list(range(n)))\n",
        "    pass"
      ],
      "metadata": {
        "id": "y0NJf_F6fYVa"
      },
      "id": "y0NJf_F6fYVa",
      "execution_count": 65,
      "outputs": []
    },
    {
      "cell_type": "code",
      "source": [
        "grover_qc.x(n)\n",
        "grover_qc.barrier()\n",
        "grover_qc.h(list(range(n+1)))"
      ],
      "metadata": {
        "id": "EIGA7WUwffdD",
        "colab": {
          "base_uri": "https://localhost:8080/"
        },
        "outputId": "9ba175ee-2d9c-4f3a-b7f7-bb5f9f028411"
      },
      "id": "EIGA7WUwffdD",
      "execution_count": 66,
      "outputs": [
        {
          "output_type": "execute_result",
          "data": {
            "text/plain": [
              "<qiskit.circuit.instructionset.InstructionSet at 0x7f7897fdb290>"
            ]
          },
          "metadata": {},
          "execution_count": 66
        }
      ]
    },
    {
      "cell_type": "code",
      "source": [
        "grover_qc.draw()"
      ],
      "metadata": {
        "id": "oQLEPIuKfm_Z",
        "colab": {
          "base_uri": "https://localhost:8080/",
          "height": 310
        },
        "outputId": "4f83f983-383e-4159-b399-eab42948a83e"
      },
      "id": "oQLEPIuKfm_Z",
      "execution_count": 67,
      "outputs": [
        {
          "output_type": "execute_result",
          "data": {
            "text/plain": [
              "           ░ ┌───┐\n",
              "q_0: ──────░─┤ H ├\n",
              "           ░ ├───┤\n",
              "q_1: ──────░─┤ H ├\n",
              "           ░ ├───┤\n",
              "q_2: ──────░─┤ H ├\n",
              "           ░ ├───┤\n",
              "q_3: ──────░─┤ H ├\n",
              "     ┌───┐ ░ ├───┤\n",
              "q_4: ┤ X ├─░─┤ H ├\n",
              "     └───┘ ░ └───┘\n",
              "c_0: ═════════════\n",
              "                  \n",
              "c_1: ═════════════\n",
              "                  \n",
              "c_2: ═════════════\n",
              "                  \n",
              "c_3: ═════════════\n",
              "                  "
            ],
            "text/html": [
              "<pre style=\"word-wrap: normal;white-space: pre;background: #fff0;line-height: 1.1;font-family: &quot;Courier New&quot;,Courier,monospace\">           ░ ┌───┐\n",
              "q_0: ──────░─┤ H ├\n",
              "           ░ ├───┤\n",
              "q_1: ──────░─┤ H ├\n",
              "           ░ ├───┤\n",
              "q_2: ──────░─┤ H ├\n",
              "           ░ ├───┤\n",
              "q_3: ──────░─┤ H ├\n",
              "     ┌───┐ ░ ├───┤\n",
              "q_4: ┤ X ├─░─┤ H ├\n",
              "     └───┘ ░ └───┘\n",
              "c_0: ═════════════\n",
              "                  \n",
              "c_1: ═════════════\n",
              "                  \n",
              "c_2: ═════════════\n",
              "                  \n",
              "c_3: ═════════════\n",
              "                  </pre>"
            ]
          },
          "metadata": {},
          "execution_count": 67
        }
      ]
    },
    {
      "cell_type": "code",
      "source": [
        "svsim = Aer.get_backend('statevector_simulator')\n",
        "qobj = assemble(grover_qc)\n",
        "result=svsim.run(qobj).result()\n",
        "statevector = result.data()['statevector']\n",
        "statevector = np.asarray(statevector)\n",
        "statevector = statevector[:2**n]"
      ],
      "metadata": {
        "id": "Xij5li2_fqLZ"
      },
      "id": "Xij5li2_fqLZ",
      "execution_count": 68,
      "outputs": []
    },
    {
      "cell_type": "code",
      "source": [
        "ket_a=np.zeros(2**n)\n",
        "ket_a[13]=1\n",
        "ket_e = (np.ones(2**n)-ket_a)/np.sqrt(2**n-1)"
      ],
      "metadata": {
        "id": "d3VKK2Kyfs4m"
      },
      "id": "d3VKK2Kyfs4m",
      "execution_count": 69,
      "outputs": []
    },
    {
      "cell_type": "code",
      "source": [
        "def get_projection(psi,e,a):\n",
        "    proj = [np.real(np.vdot(e,psi)), np.real(np.vdot(a,psi))]\n",
        "    return proj\n",
        "def plt_vector(proj, axes = [0.0,1.0,0.0,1.0]):\n",
        "    x_pos = 0\n",
        "    y_pos = 0\n",
        "    x_direct = proj[0]\n",
        "    y_direct = proj[1]\n",
        "    \n",
        "    #creating plot\n",
        "    fig, ax = plt.subplots()\n",
        "    ax.quiver(x_pos, y_pos, x_direct, y_direct, scale=1.0)\n",
        "    \n",
        "    ax.axis(axes)\n",
        "    \n",
        "    plt.show()"
      ],
      "metadata": {
        "id": "hIcI60iWfvm3"
      },
      "id": "hIcI60iWfvm3",
      "execution_count": 70,
      "outputs": []
    },
    {
      "cell_type": "code",
      "source": [
        "proj = get_projection(statevector, ket_e, ket_a)\n",
        "plt_vector(proj)"
      ],
      "metadata": {
        "id": "CmFaaAlBf1xV",
        "colab": {
          "base_uri": "https://localhost:8080/",
          "height": 269
        },
        "outputId": "02523ef3-c912-4081-8e88-764ece2609dd"
      },
      "id": "CmFaaAlBf1xV",
      "execution_count": 71,
      "outputs": [
        {
          "output_type": "display_data",
          "data": {
            "text/plain": [
              "<Figure size 432x288 with 1 Axes>"
            ],
            "image/png": "[encoded data removed]"
          },
          "metadata": {
            "needs_background": "light"
          }
        }
      ]
    },
    {
      "cell_type": "code",
      "source": [
        "oracle(4,marked,grover_qc)\n",
        "grover_qc.barrier()"
      ],
      "metadata": {
        "id": "FKOyhboPf5Od",
        "colab": {
          "base_uri": "https://localhost:8080/"
        },
        "outputId": "33651084-064c-4862-a8dd-497dc3e1b0da"
      },
      "id": "FKOyhboPf5Od",
      "execution_count": 72,
      "outputs": [
        {
          "output_type": "execute_result",
          "data": {
            "text/plain": [
              "<qiskit.circuit.instructionset.InstructionSet at 0x7f7897f5ea10>"
            ]
          },
          "metadata": {},
          "execution_count": 72
        }
      ]
    },
    {
      "cell_type": "code",
      "source": [
        "grover_qc.draw()"
      ],
      "metadata": {
        "id": "zJoDKe-Mf8Hl",
        "colab": {
          "base_uri": "https://localhost:8080/",
          "height": 310
        },
        "outputId": "dc32b2e6-5992-46b2-9ce0-9e56fe6c807e"
      },
      "id": "zJoDKe-Mf8Hl",
      "execution_count": 73,
      "outputs": [
        {
          "output_type": "execute_result",
          "data": {
            "text/plain": [
              "           ░ ┌───┐                ░ \n",
              "q_0: ──────░─┤ H ├───────■────────░─\n",
              "           ░ ├───┤┌───┐  │  ┌───┐ ░ \n",
              "q_1: ──────░─┤ H ├┤ X ├──■──┤ X ├─░─\n",
              "           ░ ├───┤└───┘  │  └───┘ ░ \n",
              "q_2: ──────░─┤ H ├───────■────────░─\n",
              "           ░ ├───┤       │        ░ \n",
              "q_3: ──────░─┤ H ├───────■────────░─\n",
              "     ┌───┐ ░ ├───┤     ┌─┴─┐      ░ \n",
              "q_4: ┤ X ├─░─┤ H ├─────┤ X ├──────░─\n",
              "     └───┘ ░ └───┘     └───┘      ░ \n",
              "c_0: ═══════════════════════════════\n",
              "                                    \n",
              "c_1: ═══════════════════════════════\n",
              "                                    \n",
              "c_2: ═══════════════════════════════\n",
              "                                    \n",
              "c_3: ═══════════════════════════════\n",
              "                                    "
            ],
            "text/html": [
              "<pre style=\"word-wrap: normal;white-space: pre;background: #fff0;line-height: 1.1;font-family: &quot;Courier New&quot;,Courier,monospace\">           ░ ┌───┐                ░ \n",
              "q_0: ──────░─┤ H ├───────■────────░─\n",
              "           ░ ├───┤┌───┐  │  ┌───┐ ░ \n",
              "q_1: ──────░─┤ H ├┤ X ├──■──┤ X ├─░─\n",
              "           ░ ├───┤└───┘  │  └───┘ ░ \n",
              "q_2: ──────░─┤ H ├───────■────────░─\n",
              "           ░ ├───┤       │        ░ \n",
              "q_3: ──────░─┤ H ├───────■────────░─\n",
              "     ┌───┐ ░ ├───┤     ┌─┴─┐      ░ \n",
              "q_4: ┤ X ├─░─┤ H ├─────┤ X ├──────░─\n",
              "     └───┘ ░ └───┘     └───┘      ░ \n",
              "c_0: ═══════════════════════════════\n",
              "                                    \n",
              "c_1: ═══════════════════════════════\n",
              "                                    \n",
              "c_2: ═══════════════════════════════\n",
              "                                    \n",
              "c_3: ═══════════════════════════════\n",
              "                                    </pre>"
            ]
          },
          "metadata": {},
          "execution_count": 73
        }
      ]
    },
    {
      "cell_type": "code",
      "source": [
        "reflect_mean(grover_qc,n)\n",
        "grover_qc.barrier()"
      ],
      "metadata": {
        "id": "8omCZNo0f8Ox",
        "colab": {
          "base_uri": "https://localhost:8080/"
        },
        "outputId": "4886f280-4ed4-41a0-a9db-28a9a6404f80"
      },
      "id": "8omCZNo0f8Ox",
      "execution_count": 74,
      "outputs": [
        {
          "output_type": "execute_result",
          "data": {
            "text/plain": [
              "<qiskit.circuit.instructionset.InstructionSet at 0x7f78980a0f10>"
            ]
          },
          "metadata": {},
          "execution_count": 74
        }
      ]
    },
    {
      "cell_type": "code",
      "source": [
        "grover_qc.draw()"
      ],
      "metadata": {
        "id": "DjdNuBcDgD47",
        "colab": {
          "base_uri": "https://localhost:8080/",
          "height": 310
        },
        "outputId": "e350188a-8ceb-47da-d172-0dee4765063b"
      },
      "id": "DjdNuBcDgD47",
      "execution_count": 75,
      "outputs": [
        {
          "output_type": "execute_result",
          "data": {
            "text/plain": [
              "           ░ ┌───┐                ░ ┌───┐┌───┐     ┌───┐┌───┐ ░ \n",
              "q_0: ──────░─┤ H ├───────■────────░─┤ H ├┤ X ├──■──┤ X ├┤ H ├─░─\n",
              "           ░ ├───┤┌───┐  │  ┌───┐ ░ ├───┤├───┤  │  ├───┤├───┤ ░ \n",
              "q_1: ──────░─┤ H ├┤ X ├──■──┤ X ├─░─┤ H ├┤ X ├──■──┤ X ├┤ H ├─░─\n",
              "           ░ ├───┤└───┘  │  └───┘ ░ ├───┤├───┤  │  ├───┤├───┤ ░ \n",
              "q_2: ──────░─┤ H ├───────■────────░─┤ H ├┤ X ├──■──┤ X ├┤ H ├─░─\n",
              "           ░ ├───┤       │        ░ ├───┤├───┤  │  ├───┤├───┤ ░ \n",
              "q_3: ──────░─┤ H ├───────■────────░─┤ H ├┤ X ├──■──┤ X ├┤ H ├─░─\n",
              "     ┌───┐ ░ ├───┤     ┌─┴─┐      ░ └───┘└───┘┌─┴─┐├───┤└───┘ ░ \n",
              "q_4: ┤ X ├─░─┤ H ├─────┤ X ├──────░───────────┤ X ├┤ X ├──────░─\n",
              "     └───┘ ░ └───┘     └───┘      ░           └───┘└───┘      ░ \n",
              "c_0: ═══════════════════════════════════════════════════════════\n",
              "                                                                \n",
              "c_1: ═══════════════════════════════════════════════════════════\n",
              "                                                                \n",
              "c_2: ═══════════════════════════════════════════════════════════\n",
              "                                                                \n",
              "c_3: ═══════════════════════════════════════════════════════════\n",
              "                                                                "
            ],
            "text/html": [
              "<pre style=\"word-wrap: normal;white-space: pre;background: #fff0;line-height: 1.1;font-family: &quot;Courier New&quot;,Courier,monospace\">           ░ ┌───┐                ░ ┌───┐┌───┐     ┌───┐┌───┐ ░ \n",
              "q_0: ──────░─┤ H ├───────■────────░─┤ H ├┤ X ├──■──┤ X ├┤ H ├─░─\n",
              "           ░ ├───┤┌───┐  │  ┌───┐ ░ ├───┤├───┤  │  ├───┤├───┤ ░ \n",
              "q_1: ──────░─┤ H ├┤ X ├──■──┤ X ├─░─┤ H ├┤ X ├──■──┤ X ├┤ H ├─░─\n",
              "           ░ ├───┤└───┘  │  └───┘ ░ ├───┤├───┤  │  ├───┤├───┤ ░ \n",
              "q_2: ──────░─┤ H ├───────■────────░─┤ H ├┤ X ├──■──┤ X ├┤ H ├─░─\n",
              "           ░ ├───┤       │        ░ ├───┤├───┤  │  ├───┤├───┤ ░ \n",
              "q_3: ──────░─┤ H ├───────■────────░─┤ H ├┤ X ├──■──┤ X ├┤ H ├─░─\n",
              "     ┌───┐ ░ ├───┤     ┌─┴─┐      ░ └───┘└───┘┌─┴─┐├───┤└───┘ ░ \n",
              "q_4: ┤ X ├─░─┤ H ├─────┤ X ├──────░───────────┤ X ├┤ X ├──────░─\n",
              "     └───┘ ░ └───┘     └───┘      ░           └───┘└───┘      ░ \n",
              "c_0: ═══════════════════════════════════════════════════════════\n",
              "                                                                \n",
              "c_1: ═══════════════════════════════════════════════════════════\n",
              "                                                                \n",
              "c_2: ═══════════════════════════════════════════════════════════\n",
              "                                                                \n",
              "c_3: ═══════════════════════════════════════════════════════════\n",
              "                                                                </pre>"
            ]
          },
          "metadata": {},
          "execution_count": 75
        }
      ]
    },
    {
      "cell_type": "code",
      "source": [
        "svsim = Aer.get_backend('statevector_simulator')\n",
        "qobj = assemble(grover_qc)\n",
        "result=svsim.run(qobj).result()\n",
        "statevector = result.data()['statevector']\n",
        "statevector = np.asarray(statevector)\n",
        "statevector = statevector[:2**n]"
      ],
      "metadata": {
        "id": "dNXVe3VygGQR"
      },
      "id": "dNXVe3VygGQR",
      "execution_count": 76,
      "outputs": []
    },
    {
      "cell_type": "code",
      "source": [
        "proj = get_projection(statevector, ket_e, ket_a)\n",
        "plt_vector(proj)"
      ],
      "metadata": {
        "id": "brGH2yAXgI4I",
        "colab": {
          "base_uri": "https://localhost:8080/",
          "height": 269
        },
        "outputId": "f28e0870-3284-453f-feba-b5ce77ece048"
      },
      "id": "brGH2yAXgI4I",
      "execution_count": 77,
      "outputs": [
        {
          "output_type": "display_data",
          "data": {
            "text/plain": [
              "<Figure size 432x288 with 1 Axes>"
            ],
            "image/png": "[encoded data removed]"
          },
          "metadata": {
            "needs_background": "light"
          }
        }
      ]
    },
    {
      "cell_type": "code",
      "source": [
        "oracle(4,marked,grover_qc)\n",
        "grover_qc.barrier()\n",
        "reflect_mean(grover_qc,n)\n",
        "grover_qc.barrier()"
      ],
      "metadata": {
        "id": "wBzL4IRmgLTF",
        "colab": {
          "base_uri": "https://localhost:8080/"
        },
        "outputId": "69487384-9b7e-45a4-c316-4b4794a56028"
      },
      "id": "wBzL4IRmgLTF",
      "execution_count": 78,
      "outputs": [
        {
          "output_type": "execute_result",
          "data": {
            "text/plain": [
              "<qiskit.circuit.instructionset.InstructionSet at 0x7f7898098190>"
            ]
          },
          "metadata": {},
          "execution_count": 78
        }
      ]
    },
    {
      "cell_type": "code",
      "source": [
        "svsim = Aer.get_backend('statevector_simulator')\n",
        "qobj = assemble(grover_qc)\n",
        "result=svsim.run(qobj).result()\n",
        "statevector = result.data()['statevector']\n",
        "statevector = np.asarray(statevector)\n",
        "statevector = statevector[:2**n]\n",
        "proj = get_projection(statevector, ket_e, ket_a)\n",
        "plt_vector(proj)"
      ],
      "metadata": {
        "id": "ozQxU83tgNrD",
        "colab": {
          "base_uri": "https://localhost:8080/",
          "height": 269
        },
        "outputId": "910fb41f-0776-41df-a397-5b2fa957ecf8"
      },
      "id": "ozQxU83tgNrD",
      "execution_count": 79,
      "outputs": [
        {
          "output_type": "display_data",
          "data": {
            "text/plain": [
              "<Figure size 432x288 with 1 Axes>"
            ],
            "image/png": "[encoded data removed]"
          },
          "metadata": {
            "needs_background": "light"
          }
        }
      ]
    },
    {
      "cell_type": "code",
      "source": [
        "grover_qc.measure(range(n),range(n))\n",
        "\n",
        "aer_sim = Aer.get_backend('aer_simulator')\n",
        "qobj = assemble(grover_qc)\n",
        "result = aer_sim.run(qobj).result()\n",
        "counts = result.get_counts()\n",
        "plot_histogram(counts)\n"
      ],
      "metadata": {
        "id": "iXDytjGLgQgH",
        "colab": {
          "base_uri": "https://localhost:8080/",
          "height": 348
        },
        "outputId": "ef0bf4f8-43d2-4033-8ab7-db96bbf8e235"
      },
      "id": "iXDytjGLgQgH",
      "execution_count": 80,
      "outputs": [
        {
          "output_type": "execute_result",
          "data": {
            "text/plain": [
              "<Figure size 504x360 with 1 Axes>"
            ],
            "image/png": "[encoded data removed]"
          },
          "metadata": {},
          "execution_count": 80
        }
      ]
    },
    {
      "cell_type": "markdown",
      "source": [],
      "metadata": {
        "id": "4D3srDUdexph"
      },
      "id": "4D3srDUdexph"
    }
  ],
  "metadata": {
    "kernelspec": {
      "display_name": "Python 3 (ipykernel)",
      "language": "python",
      "name": "python3"
    },
    "language_info": {
      "codemirror_mode": {
        "name": "ipython",
        "version": 3
      },
      "file_extension": ".py",
      "mimetype": "text/x-python",
      "name": "python",
      "nbconvert_exporter": "python",
      "pygments_lexer": "ipython3",
      "version": "3.9.12"
    },
    "colab": {
      "provenance": [],
      "toc_visible": true,
      "include_colab_link": true
    }
  },
  "nbformat": 4,
  "nbformat_minor": 5
}